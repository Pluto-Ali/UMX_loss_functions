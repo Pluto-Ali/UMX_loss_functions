{
 "cells": [
  {
   "cell_type": "code",
   "execution_count": 1,
   "metadata": {},
   "outputs": [],
   "source": [
    "import pandas as pd"
   ]
  },
  {
   "cell_type": "code",
   "execution_count": 2,
   "metadata": {},
   "outputs": [],
   "source": [
    "import museval"
   ]
  },
  {
   "cell_type": "code",
   "execution_count": 15,
   "metadata": {},
   "outputs": [
    {
     "data": {
      "text/plain": [
       "method                                                          target  metric\n",
       "/home/enricguso/PycharmProjects/temp_experiments/e31_freqsisdr  bass    ISR        5.657293\n",
       "                                                                        SAR        4.847358\n",
       "                                                                        SDR        4.652190\n",
       "                                                                        SIR        7.510798\n",
       "                                                                drums   ISR        9.354355\n",
       "                                                                        SAR        5.466160\n",
       "                                                                        SDR        5.617888\n",
       "                                                                        SIR        8.954115\n",
       "                                                                other   ISR        8.355142\n",
       "                                                                        SAR        4.007315\n",
       "                                                                        SDR        4.206652\n",
       "                                                                        SIR        3.368550\n",
       "                                                                vocals  ISR       11.857292\n",
       "                                                                        SAR        6.297675\n",
       "                                                                        SDR        5.869328\n",
       "                                                                        SIR        8.758830\n",
       "Name: score, dtype: float64"
      ]
     },
     "execution_count": 15,
     "metadata": {},
     "output_type": "execute_result"
    }
   ],
   "source": [
    "method = museval.MethodStore()\n",
    "method.load('e31_freqsisdr.pandas')\n",
    "\n",
    "method.agg_frames_tracks_scores()"
   ]
  },
  {
   "cell_type": "code",
   "execution_count": null,
   "metadata": {},
   "outputs": [],
   "source": []
  }
 ],
 "metadata": {
  "kernelspec": {
   "display_name": "Python 3",
   "language": "python",
   "name": "python3"
  },
  "language_info": {
   "codemirror_mode": {
    "name": "ipython",
    "version": 3
   },
   "file_extension": ".py",
   "mimetype": "text/x-python",
   "name": "python",
   "nbconvert_exporter": "python",
   "pygments_lexer": "ipython3",
   "version": "3.7.6"
  }
 },
 "nbformat": 4,
 "nbformat_minor": 4
}
